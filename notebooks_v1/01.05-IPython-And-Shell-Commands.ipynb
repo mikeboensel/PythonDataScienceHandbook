{
 "cells": [
  {
   "cell_type": "markdown",
   "metadata": {},
   "source": [
    "<!--BOOK_INFORMATION-->\n",
    "<img align=\"left\" style=\"padding-right:10px;\" src=\"figures/PDSH-cover-small.png\">\n",
    "\n",
    "*This notebook contains an excerpt from the [Python Data Science Handbook](http://shop.oreilly.com/product/0636920034919.do) by Jake VanderPlas; the content is available [on GitHub](https://github.com/jakevdp/PythonDataScienceHandbook).*\n",
    "\n",
    "*The text is released under the [CC-BY-NC-ND license](https://creativecommons.org/licenses/by-nc-nd/3.0/us/legalcode), and code is released under the [MIT license](https://opensource.org/licenses/MIT). If you find this content useful, please consider supporting the work by [buying the book](http://shop.oreilly.com/product/0636920034919.do)!*"
   ]
  },
  {
   "cell_type": "markdown",
   "metadata": {},
   "source": [
    "<!--NAVIGATION-->\n",
    "< [Input and Output History](01.04-Input-Output-History.ipynb) | [Contents](Index.ipynb) | [Errors and Debugging](01.06-Errors-and-Debugging.ipynb) >\n",
    "\n",
    "<a href=\"https://colab.research.google.com/github/jakevdp/PythonDataScienceHandbook/blob/master/notebooks/01.05-IPython-And-Shell-Commands.ipynb\"><img align=\"left\" src=\"https://colab.research.google.com/assets/colab-badge.svg\" alt=\"Open in Colab\" title=\"Open and Execute in Google Colaboratory\"></a>\n"
   ]
  },
  {
   "cell_type": "markdown",
   "metadata": {},
   "source": [
    "## Shell Commands in IPython\n",
    "\n",
    "Any command that works at the command-line can be used in IPython by prefixing it with the ``!`` character.\n",
    "For example, the ``ls``, ``pwd``, and ``echo`` commands can be run as follows:\n",
    "\n",
    "```ipython\n",
    "In [1]: !ls\n",
    "myproject.txt\n",
    "\n",
    "In [2]: !pwd\n",
    "/home/jake/projects/myproject\n",
    "\n",
    "In [3]: !echo \"printing from the shell\"\n",
    "printing from the shell\n",
    "```"
   ]
  },
  {
   "cell_type": "markdown",
   "metadata": {},
   "source": [
    "## Collecting Values from the Shell\n",
    "\n",
    "Shell commands can not only be called from IPython, but can also be made to interact with the IPython namespace.\n",
    "For example, you can **save the output of any shell command** to a Python list using the assignment operator:\n",
    "\n",
    "```ipython\n",
    "In [4]: contents = !ls\n",
    "\n",
    "In [5]: print(contents)\n",
    "['myproject.txt']\n",
    "\n",
    "In [6]: directory = !pwd\n",
    "\n",
    "In [7]: print(directory)\n",
    "['/Users/jakevdp/notebooks/tmp/myproject']\n",
    "```\n",
    "\n",
    "Note that these results are not returned as lists, but as a special shell return type defined in IPython:\n",
    "\n",
    "```ipython\n",
    "In [8]: type(directory)\n",
    "IPython.utils.text.SList\n",
    "```\n",
    "\n",
    "This looks and acts a lot like a Python list, but has additional functionality to allow you to search, filter, and display the results in convenient ways: \n",
    "- ``grep('search_pattern')``\n",
    "- ``fields()`` -- space/tab delimited split\n",
    "- View as\n",
    "    - ``s`` - string with spaces seperators\n",
    "    - ``n`` - string with new line seperators\n",
    "    - ``p`` - list of Paths\n",
    "    - ``l`` - list"
   ]
  },
  {
   "cell_type": "code",
   "execution_count": 24,
   "metadata": {
    "tags": []
   },
   "outputs": [
    {
     "data": {
      "text/plain": [
       "['total 20M',\n",
       " 'drwxr-xr-x 75 jovyan users  2.4K Apr 25 14:19 .',\n",
       " '-rwxrwxrwx  1 jovyan users   34K Apr 25 14:19 01.05-IPython-And-Shell-Commands.ipynb',\n",
       " 'drwxr-xr-x  9 jovyan users   288 Apr 24 21:04 .ipynb_checkpoints',\n",
       " '-rwxrwxrwx  1 jovyan users  8.7K Apr 24 21:04 01.04-Input-Output-History.ipynb',\n",
       " '-rwxrwxrwx  1 jovyan users  9.6K Apr 24 20:58 01.03-Magic-Commands.ipynb',\n",
       " '-rwxrwxrwx  1 jovyan users  7.4K Apr 24 20:40 01.02-Shell-Keyboard-Shortcuts.ipynb',\n",
       " '-rwxrwxrwx  1 jovyan users   11K Apr 24 20:21 01.01-Help-And-Documentation.ipynb',\n",
       " '-rwxrwxrwx  1 jovyan users  6.2K Apr 24 20:11 01.00-IPython-Beyond-Normal-Python.ipynb',\n",
       " '-rwxrwxrwx  1 jovyan users  6.5K Apr 24 20:10 00.00-Preface.ipynb',\n",
       " '-rw-r--r--  1 jovyan users   15K Apr 24 20:09 .DS_Store',\n",
       " 'drwxr-xr-x 14 jovyan users   448 Apr 24 20:09 ..',\n",
       " '-rwxrwxrwx  1 jovyan users  2.8K Apr 18 14:16 helpers_05_08.py',\n",
       " 'drwxrwxrwx 38 jovyan users  1.2K Apr 18 14:16 figures',\n",
       " 'drwxrwxrwx 10 jovyan users   320 Apr 18 14:16 data',\n",
       " '-rwxrwxrwx  1 jovyan users  6.6K Apr 18 14:16 Index.ipynb',\n",
       " '-rwxrwxrwx  1 jovyan users  1.8M Apr 18 14:16 06.00-Figure-Code.ipynb',\n",
       " '-rwxrwxrwx  1 jovyan users  6.8K Apr 18 14:16 05.15-Learning-More.ipynb',\n",
       " '-rwxrwxrwx  1 jovyan users  554K Apr 18 14:16 05.14-Image-Features.ipynb',\n",
       " '-rwxrwxrwx  1 jovyan users  254K Apr 18 14:16 05.13-Kernel-Density-Estimation.ipynb',\n",
       " '-rwxrwxrwx  1 jovyan users  1.1M Apr 18 14:16 05.12-Gaussian-Mixtures.ipynb',\n",
       " '-rwxrwxrwx  1 jovyan users  2.1M Apr 18 14:16 05.11-K-Means.ipynb',\n",
       " '-rwxrwxrwx  1 jovyan users  1.5M Apr 18 14:16 05.10-Manifold-Learning.ipynb',\n",
       " '-rwxrwxrwx  1 jovyan users  566K Apr 18 14:16 05.09-Principal-Component-Analysis.ipynb',\n",
       " '-rwxrwxrwx  1 jovyan users  475K Apr 18 14:16 05.08-Random-Forests.ipynb',\n",
       " '-rwxrwxrwx  1 jovyan users 1009K Apr 18 14:16 05.07-Support-Vector-Machines.ipynb',\n",
       " '-rwxrwxrwx  1 jovyan users  379K Apr 18 14:16 05.06-Linear-Regression.ipynb',\n",
       " '-rwxrwxrwx  1 jovyan users  258K Apr 18 14:16 05.05-Naive-Bayes.ipynb',\n",
       " '-rwxrwxrwx  1 jovyan users   49K Apr 18 14:16 05.04-Feature-Engineering.ipynb',\n",
       " '-rwxrwxrwx  1 jovyan users  210K Apr 18 14:16 05.03-Hyperparameters-and-Model-Validation.ipynb',\n",
       " '-rwxrwxrwx  1 jovyan users  382K Apr 18 14:16 05.02-Introducing-Scikit-Learn.ipynb',\n",
       " '-rwxrwxrwx  1 jovyan users   24K Apr 18 14:16 05.01-What-Is-Machine-Learning.ipynb',\n",
       " '-rwxrwxrwx  1 jovyan users  5.0K Apr 18 14:16 05.00-Machine-Learning.ipynb',\n",
       " '-rwxrwxrwx  1 jovyan users  5.7K Apr 18 14:16 04.15-Further-Resources.ipynb',\n",
       " '-rwxrwxrwx  1 jovyan users  1.1M Apr 18 14:16 04.14-Visualization-With-Seaborn.ipynb',\n",
       " '-rwxrwxrwx  1 jovyan users  2.7M Apr 18 14:16 04.13-Geographic-Data-With-Basemap.ipynb',\n",
       " '-rwxrwxrwx  1 jovyan users  648K Apr 18 14:16 04.12-Three-Dimensional-Plotting.ipynb',\n",
       " '-rwxrwxrwx  1 jovyan users  364K Apr 18 14:16 04.11-Settings-and-Stylesheets.ipynb',\n",
       " '-rwxrwxrwx  1 jovyan users  311K Apr 18 14:16 04.10-Customizing-Ticks.ipynb',\n",
       " '-rwxrwxrwx  1 jovyan users  192K Apr 18 14:16 04.09-Text-and-Annotation.ipynb',\n",
       " '-rwxrwxrwx  1 jovyan users  148K Apr 18 14:16 04.08-Multiple-Subplots.ipynb',\n",
       " '-rwxrwxrwx  1 jovyan users  426K Apr 18 14:16 04.07-Customizing-Colorbars.ipynb',\n",
       " '-rwxrwxrwx  1 jovyan users  215K Apr 18 14:16 04.06-Customizing-Legends.ipynb',\n",
       " '-rwxrwxrwx  1 jovyan users  123K Apr 18 14:16 04.05-Histograms-and-Binnings.ipynb',\n",
       " '-rwxrwxrwx  1 jovyan users  487K Apr 18 14:16 04.04-Density-and-Contour-Plots.ipynb',\n",
       " '-rwxrwxrwx  1 jovyan users   47K Apr 18 14:16 04.03-Errorbars.ipynb',\n",
       " '-rwxrwxrwx  1 jovyan users  194K Apr 18 14:16 04.02-Simple-Scatter-Plots.ipynb',\n",
       " '-rwxrwxrwx  1 jovyan users  290K Apr 18 14:16 04.01-Simple-Line-Plots.ipynb',\n",
       " '-rwxrwxrwx  1 jovyan users   99K Apr 18 14:16 04.00-Introduction-To-Matplotlib.ipynb',\n",
       " '-rwxrwxrwx  1 jovyan users  5.0K Apr 18 14:16 03.13-Further-Resources.ipynb',\n",
       " '-rwxrwxrwx  1 jovyan users   31K Apr 18 14:16 03.12-Performance-Eval-and-Query.ipynb',\n",
       " '-rwxrwxrwx  1 jovyan users  663K Apr 18 14:16 03.11-Working-with-Time-Series.ipynb',\n",
       " '-rwxrwxrwx  1 jovyan users   42K Apr 18 14:16 03.10-Working-With-Strings.ipynb',\n",
       " '-rwxrwxrwx  1 jovyan users  182K Apr 18 14:16 03.09-Pivot-Tables.ipynb',\n",
       " '-rwxrwxrwx  1 jovyan users   78K Apr 18 14:16 03.08-Aggregation-and-Grouping.ipynb',\n",
       " '-rwxrwxrwx  1 jovyan users  105K Apr 18 14:16 03.07-Merge-and-Join.ipynb',\n",
       " '-rwxrwxrwx  1 jovyan users   47K Apr 18 14:16 03.06-Concat-And-Append.ipynb',\n",
       " '-rwxrwxrwx  1 jovyan users   75K Apr 18 14:16 03.05-Hierarchical-Indexing.ipynb',\n",
       " '-rwxrwxrwx  1 jovyan users   37K Apr 18 14:16 03.04-Missing-Values.ipynb',\n",
       " '-rwxrwxrwx  1 jovyan users   27K Apr 18 14:16 03.03-Operations-in-Pandas.ipynb',\n",
       " '-rwxrwxrwx  1 jovyan users   41K Apr 18 14:16 03.02-Data-Indexing-and-Selection.ipynb',\n",
       " '-rwxrwxrwx  1 jovyan users   40K Apr 18 14:16 03.01-Introducing-Pandas-Objects.ipynb',\n",
       " '-rwxrwxrwx  1 jovyan users  7.0K Apr 18 14:16 03.00-Introduction-to-Pandas.ipynb',\n",
       " '-rwxrwxrwx  1 jovyan users   17K Apr 18 14:16 02.09-Structured-Data-NumPy.ipynb',\n",
       " '-rwxrwxrwx  1 jovyan users   61K Apr 18 14:16 02.08-Sorting.ipynb',\n",
       " '-rwxrwxrwx  1 jovyan users   62K Apr 18 14:16 02.07-Fancy-Indexing.ipynb',\n",
       " '-rwxrwxrwx  1 jovyan users   41K Apr 18 14:16 02.06-Boolean-Arrays-and-Masks.ipynb',\n",
       " '-rwxrwxrwx  1 jovyan users  100K Apr 18 14:16 02.05-Computation-on-arrays-broadcasting.ipynb',\n",
       " '-rwxrwxrwx  1 jovyan users   31K Apr 18 14:16 02.04-Computation-on-arrays-aggregates.ipynb',\n",
       " '-rwxrwxrwx  1 jovyan users   32K Apr 18 14:16 02.03-Computation-on-arrays-ufuncs.ipynb',\n",
       " '-rwxrwxrwx  1 jovyan users   33K Apr 18 14:16 02.02-The-Basics-Of-NumPy-Arrays.ipynb',\n",
       " '-rwxrwxrwx  1 jovyan users   24K Apr 18 14:16 02.01-Understanding-Data-Types.ipynb',\n",
       " '-rwxrwxrwx  1 jovyan users  7.5K Apr 18 14:16 02.00-Introduction-to-NumPy.ipynb',\n",
       " '-rwxrwxrwx  1 jovyan users  5.5K Apr 18 14:16 01.08-More-IPython-Resources.ipynb',\n",
       " '-rwxrwxrwx  1 jovyan users   19K Apr 18 14:16 01.07-Timing-and-Profiling.ipynb',\n",
       " '-rwxrwxrwx  1 jovyan users   21K Apr 18 14:16 01.06-Errors-and-Debugging.ipynb']"
      ]
     },
     "execution_count": 24,
     "metadata": {},
     "output_type": "execute_result"
    }
   ],
   "source": [
    "d = !(ls -lath) #Show the different options for this type\n",
    "d"
   ]
  },
  {
   "cell_type": "markdown",
   "metadata": {},
   "source": [
    "## Passing values to the Shell\n",
    "\n",
    "Communication in the other direction–passing Python variables into the shell–is possible using the ``{varname}`` syntax:\n",
    "\n",
    "```ipython\n",
    "In [9]: message = \"hello from Python\"\n",
    "\n",
    "In [10]: !echo {message}\n",
    "hello from Python\n",
    "```"
   ]
  },
  {
   "cell_type": "markdown",
   "metadata": {},
   "source": [
    "# Changing directories\n",
    "\n",
    "If you play with IPython's shell commands for a while, you might notice that you cannot use ``!cd`` to navigate the filesystem:\n",
    "\n",
    "```ipython\n",
    "In [11]: !pwd\n",
    "/home/jake/projects/myproject\n",
    "\n",
    "In [12]: !cd ..\n",
    "\n",
    "In [13]: !pwd\n",
    "/home/jake/projects/myproject\n",
    "```\n",
    "\n",
    "The reason is that **shell commands in the notebook are executed in a temporary subshell**.\n",
    "If you'd like to change the working directory in a more enduring way, you can use the ``%cd`` magic command:\n",
    "\n",
    "```ipython\n",
    "In [14]: %cd ..\n",
    "/home/jake/projects\n",
    "```\n",
    "\n",
    "In fact, by default you can even use this without the ``%`` sign (This is known as an ``automagic`` function):\n",
    "\n",
    "```ipython\n",
    "In [15]: cd myproject\n",
    "/home/jake/projects/myproject\n",
    "```"
   ]
  },
  {
   "cell_type": "markdown",
   "metadata": {},
   "source": [
    "## Automagic functions\n",
    "\n",
    "Can be toggled with the ``%automagic`` magic function.\n",
    "\n",
    "Besides ``%cd``, other available shell-like magic functions are ``%cat``, ``%cp``, ``%env``, ``%ls``, ``%man``, ``%mkdir``, ``%more``, ``%mv``, ``%pwd``, ``%rm``, and ``%rmdir``, any of which can be used without the ``%`` sign if ``automagic`` is on.\n",
    "**These seem tempermental, just use the %. Also, more than one per cell seems to have strange behavior**\n",
    "\n",
    "This makes it so that you can almost treat the IPython prompt as if it's a normal shell:\n",
    "\n",
    "```ipython\n",
    "In [16]: mkdir tmp\n",
    "\n",
    "In [17]: ls\n",
    "myproject.txt  tmp/\n",
    "\n",
    "In [18]: cp myproject.txt tmp/\n",
    "\n",
    "In [19]: ls tmp\n",
    "myproject.txt\n",
    "\n",
    "In [20]: rm -r tmp\n",
    "```"
   ]
  },
  {
   "cell_type": "code",
   "execution_count": 48,
   "metadata": {
    "tags": []
   },
   "outputs": [],
   "source": [
    "ls /tmp"
   ]
  },
  {
   "cell_type": "markdown",
   "metadata": {},
   "source": [
    "<!--NAVIGATION-->\n",
    "< [Input and Output History](01.04-Input-Output-History.ipynb) | [Contents](Index.ipynb) | [Errors and Debugging](01.06-Errors-and-Debugging.ipynb) >\n",
    "\n",
    "<a href=\"https://colab.research.google.com/github/jakevdp/PythonDataScienceHandbook/blob/master/notebooks/01.05-IPython-And-Shell-Commands.ipynb\"><img align=\"left\" src=\"https://colab.research.google.com/assets/colab-badge.svg\" alt=\"Open in Colab\" title=\"Open and Execute in Google Colaboratory\"></a>\n"
   ]
  }
 ],
 "metadata": {
  "anaconda-cloud": {},
  "kernelspec": {
   "display_name": "Python 3 (ipykernel)",
   "language": "python",
   "name": "python3"
  },
  "language_info": {
   "codemirror_mode": {
    "name": "ipython",
    "version": 3
   },
   "file_extension": ".py",
   "mimetype": "text/x-python",
   "name": "python",
   "nbconvert_exporter": "python",
   "pygments_lexer": "ipython3",
   "version": "3.10.9"
  }
 },
 "nbformat": 4,
 "nbformat_minor": 4
}
